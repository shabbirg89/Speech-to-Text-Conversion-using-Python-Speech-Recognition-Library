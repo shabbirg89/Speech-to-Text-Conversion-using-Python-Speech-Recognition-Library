{
 "cells": [
  {
   "cell_type": "code",
   "execution_count": 2,
   "metadata": {},
   "outputs": [],
   "source": [
    "#!pip install speechRecognition"
   ]
  },
  {
   "cell_type": "code",
   "execution_count": 3,
   "metadata": {},
   "outputs": [],
   "source": [
    "import speech_recognition as spr"
   ]
  },
  {
   "cell_type": "code",
   "execution_count": 4,
   "metadata": {},
   "outputs": [
    {
     "data": {
      "text/plain": [
       "'3.8.1'"
      ]
     },
     "execution_count": 4,
     "metadata": {},
     "output_type": "execute_result"
    }
   ],
   "source": [
    "spr.__version__"
   ]
  },
  {
   "cell_type": "markdown",
   "metadata": {},
   "source": [
    "### Speech Recognition :\n",
    "``Library`` for performing speech recognition, with support for several engines and APIs, online and offline."
   ]
  },
  {
   "cell_type": "markdown",
   "metadata": {},
   "source": [
    "### Recognizer :\n",
    "Creates a new ``Recognizer`` instance, which represents a collection of speech recognition functionality."
   ]
  },
  {
   "cell_type": "code",
   "execution_count": 5,
   "metadata": {},
   "outputs": [],
   "source": [
    "recognizer=spr.Recognizer()"
   ]
  },
  {
   "cell_type": "markdown",
   "metadata": {},
   "source": [
    "<font size=\"5\"><font color='red'>**Converting Audio to AudioFile**</font></font>"
   ]
  },
  {
   "cell_type": "code",
   "execution_count": 6,
   "metadata": {},
   "outputs": [],
   "source": [
    "#spr.AudioFile?\n",
    "#recognizer.record?\n",
    "#recognizer.recognize_google?"
   ]
  },
  {
   "cell_type": "markdown",
   "metadata": {},
   "source": [
    "### AudioFile :\n",
    "Creates a new ``AudioFile`` instance given a WAV/AIFF/FLAC audio file ``filename_or_fileobject``. Subclass of ``AudioSource``."
   ]
  },
  {
   "cell_type": "code",
   "execution_count": 7,
   "metadata": {},
   "outputs": [],
   "source": [
    "proverb=spr.AudioFile('Proverb.flac')"
   ]
  },
  {
   "cell_type": "code",
   "execution_count": 8,
   "metadata": {},
   "outputs": [
    {
     "name": "stdout",
     "output_type": "stream",
     "text": [
      "<class 'speech_recognition.AudioFile'>\n"
     ]
    }
   ],
   "source": [
    "print(type(proverb))"
   ]
  },
  {
   "cell_type": "markdown",
   "metadata": {},
   "source": [
    "### Recognizer.instance.record :\n",
    "Records up to ``duration`` seconds of audio from ``source`` (an ``AudioSource`` instance) starting at ``offset`` (or at the beginning if not specified) into an ``AudioData`` instance, which it returns.\n",
    "\n",
    "If ``duration`` is not specified, then it will record until there is no more audio input."
   ]
  },
  {
   "cell_type": "markdown",
   "metadata": {},
   "source": [
    "<font size=\"5\"><font color='red'>**Converting AudioFile to AudioData**</font></font>"
   ]
  },
  {
   "cell_type": "code",
   "execution_count": 9,
   "metadata": {},
   "outputs": [],
   "source": [
    "with proverb as source:\n",
    "    proverb = recognizer.record(source)"
   ]
  },
  {
   "cell_type": "code",
   "execution_count": 10,
   "metadata": {},
   "outputs": [
    {
     "name": "stdout",
     "output_type": "stream",
     "text": [
      "<class 'speech_recognition.AudioData'>\n"
     ]
    }
   ],
   "source": [
    "print(type(proverb))"
   ]
  },
  {
   "cell_type": "markdown",
   "metadata": {},
   "source": [
    "<font size=\"5\"><font color='red'>**Converting AudioData to Text**</font></font>"
   ]
  },
  {
   "cell_type": "markdown",
   "metadata": {},
   "source": [
    "### Recognizer.instance.recognize_google :\n",
    "Performs speech recognition on ``audio_data`` (an ``AudioData`` instance), using the Google Speech Recognition API."
   ]
  },
  {
   "cell_type": "code",
   "execution_count": 11,
   "metadata": {},
   "outputs": [
    {
     "name": "stdout",
     "output_type": "stream",
     "text": [
      "actions speak louder than words\n"
     ]
    }
   ],
   "source": [
    "text = recognizer.recognize_google(proverb,\n",
    "                                   language=\"en-US\")\n",
    "print(text)"
   ]
  },
  {
   "cell_type": "markdown",
   "metadata": {},
   "source": [
    "<font size=\"5\"><font color='red'>**Speech to Text with a song**</font></font>"
   ]
  },
  {
   "cell_type": "markdown",
   "metadata": {},
   "source": [
    "<font size=\"5\"><font color='red'>**TAMIL**</font></font>"
   ]
  },
  {
   "cell_type": "code",
   "execution_count": 17,
   "metadata": {},
   "outputs": [],
   "source": [
    "song=spr.AudioFile('Yaen Ennai Pirindhaai.wav')"
   ]
  },
  {
   "cell_type": "code",
   "execution_count": 18,
   "metadata": {},
   "outputs": [
    {
     "name": "stdout",
     "output_type": "stream",
     "text": [
      "<class 'speech_recognition.AudioFile'>\n"
     ]
    }
   ],
   "source": [
    "print(type(song))"
   ]
  },
  {
   "cell_type": "code",
   "execution_count": 19,
   "metadata": {},
   "outputs": [],
   "source": [
    "with song as source:\n",
    "    song = recognizer.record(source,duration=60,offset=22)"
   ]
  },
  {
   "cell_type": "code",
   "execution_count": 20,
   "metadata": {},
   "outputs": [
    {
     "name": "stdout",
     "output_type": "stream",
     "text": [
      "<class 'speech_recognition.AudioData'>\n"
     ]
    }
   ],
   "source": [
    "print(type(song))"
   ]
  },
  {
   "cell_type": "code",
   "execution_count": 21,
   "metadata": {},
   "outputs": [
    {
     "name": "stdout",
     "output_type": "stream",
     "text": [
      "கண்ணிலே கண்ணீரிலே பிரிந்த நான் போகின்றேன் விண்ணிலே என் மேகமாய் கலைந்து நான் மெல்ல மெல்ல கரைந்தேன் அழுகை என்னும் அருவியில் தினம் தினம் விழுந்தேனே நிலவே உன் நிழலில் தொடர்ந்து நானும் விரைந்தே\n"
     ]
    }
   ],
   "source": [
    "song_text=recognizer.recognize_google(song,language=\"ta-IN\")\n",
    "\n",
    "print(song_text)"
   ]
  },
  {
   "cell_type": "markdown",
   "metadata": {},
   "source": [
    "<font size=\"5\"><font color='red'>**HINDI**</font></font>"
   ]
  },
  {
   "cell_type": "code",
   "execution_count": 22,
   "metadata": {},
   "outputs": [],
   "source": [
    "song2=spr.AudioFile('Duniyaa.wav')\n",
    "with song2 as source2:\n",
    "    song2=recognizer.record(source2,duration=80,offset=11)"
   ]
  },
  {
   "cell_type": "code",
   "execution_count": 24,
   "metadata": {},
   "outputs": [
    {
     "name": "stdout",
     "output_type": "stream",
     "text": [
      "bulave Tujhe Yaari aaj meri Galiyan Basava Tere Sang Mein alag Duniya bulave Tujhe Yaar aaj meri Galiyan Basava Tere Sang Mein alag Duniya Na Aaye Kabhi donon Mein Jara bhi Fasle Ek Tu Hai Ek mein hoon aur koi na mera sab kuch tera Tu samajh Le Tu Chahe mere haq Ki Zameen Rakh Le Tu Sanso pe bhi Naam Tera likh de main Jiyu Jab Jab Tera Dil Dhadke\n"
     ]
    }
   ],
   "source": [
    "text2=recognizer.recognize_google(song2,language='en-US')\n",
    "print(text2)"
   ]
  },
  {
   "cell_type": "code",
   "execution_count": null,
   "metadata": {},
   "outputs": [],
   "source": []
  },
  {
   "cell_type": "code",
   "execution_count": null,
   "metadata": {},
   "outputs": [],
   "source": []
  }
 ],
 "metadata": {
  "kernelspec": {
   "display_name": "Python 3",
   "language": "python",
   "name": "python3"
  },
  "language_info": {
   "codemirror_mode": {
    "name": "ipython",
    "version": 3
   },
   "file_extension": ".py",
   "mimetype": "text/x-python",
   "name": "python",
   "nbconvert_exporter": "python",
   "pygments_lexer": "ipython3",
   "version": "3.7.4"
  }
 },
 "nbformat": 4,
 "nbformat_minor": 2
}
